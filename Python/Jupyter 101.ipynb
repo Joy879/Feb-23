{
 "cells": [
  {
   "cell_type": "code",
   "execution_count": 2,
   "id": "bd5bc64e",
   "metadata": {},
   "outputs": [
    {
     "name": "stdout",
     "output_type": "stream",
     "text": [
      "An intro to Jupyter\n"
     ]
    }
   ],
   "source": [
    "# This is a code cell\n",
    "print(\"An intro to Jupyter\")"
   ]
  },
  {
   "cell_type": "markdown",
   "id": "3a840c6a",
   "metadata": {},
   "source": [
    "A basic markdown sentence"
   ]
  },
  {
   "cell_type": "markdown",
   "id": "9c1423d7",
   "metadata": {},
   "source": [
    "* A markdown list\n",
    "* A markdown list\n",
    "* A markdown list"
   ]
  },
  {
   "cell_type": "markdown",
   "id": "b49b467c",
   "metadata": {},
   "source": [
    "- Another markdown list\n",
    "- Another markdown list"
   ]
  },
  {
   "cell_type": "markdown",
   "id": "5875eebc",
   "metadata": {},
   "source": [
    "1. A numbered markdown list\n",
    "2. A numbered markdown list"
   ]
  },
  {
   "cell_type": "markdown",
   "id": "7525469f",
   "metadata": {},
   "source": [
    "# A heading"
   ]
  },
  {
   "cell_type": "markdown",
   "id": "1049165b",
   "metadata": {},
   "source": [
    "## A smaller heading"
   ]
  },
  {
   "cell_type": "markdown",
   "id": "5a41562b",
   "metadata": {},
   "source": [
    "### A smaller heading"
   ]
  },
  {
   "cell_type": "markdown",
   "id": "550d4ae0",
   "metadata": {},
   "source": [
    "#### A smaller heading"
   ]
  },
  {
   "cell_type": "markdown",
   "id": "6251f8bd",
   "metadata": {},
   "source": [
    "###### A smaller heading"
   ]
  },
  {
   "cell_type": "markdown",
   "id": "1bd868b0",
   "metadata": {},
   "source": [
    "![Python](https://upload.wikimedia.org/wikipedia/commons/thumb/f/f8/Python_logo_and_wordmark.svg/2560px-Python_logo_and_wordmark.svg.png)"
   ]
  },
  {
   "cell_type": "markdown",
   "id": "0b55b4e9",
   "metadata": {},
   "source": [
    "![Git push](git-push.png)"
   ]
  },
  {
   "cell_type": "markdown",
   "id": "2f873e58",
   "metadata": {},
   "source": [
    "This is where you can [download python](https://www.anaconda.com/)"
   ]
  }
 ],
 "metadata": {
  "kernelspec": {
   "display_name": "Python 3 (ipykernel)",
   "language": "python",
   "name": "python3"
  },
  "language_info": {
   "codemirror_mode": {
    "name": "ipython",
    "version": 3
   },
   "file_extension": ".py",
   "mimetype": "text/x-python",
   "name": "python",
   "nbconvert_exporter": "python",
   "pygments_lexer": "ipython3",
   "version": "3.9.13"
  }
 },
 "nbformat": 4,
 "nbformat_minor": 5
}
